{
 "cells": [
  {
   "cell_type": "code",
   "execution_count": 17,
   "metadata": {},
   "outputs": [],
   "source": [
    "library(dplyr)"
   ]
  },
  {
   "cell_type": "markdown",
   "metadata": {},
   "source": [
    "Load Auto dataset from `Auto.csv` file into `df` dataframe"
   ]
  },
  {
   "cell_type": "code",
   "execution_count": 6,
   "metadata": {},
   "outputs": [],
   "source": [
    "df <- read.csv(\"Auto.csv\", header = TRUE)"
   ]
  },
  {
   "cell_type": "code",
   "execution_count": 7,
   "metadata": {},
   "outputs": [
    {
     "data": {
      "text/html": [
       "<table>\n",
       "<thead><tr><th scope=col>mpg</th><th scope=col>cylinders</th><th scope=col>displacement</th><th scope=col>horsepower</th><th scope=col>weight</th><th scope=col>acceleration</th><th scope=col>year</th><th scope=col>origin</th><th scope=col>name</th></tr></thead>\n",
       "<tbody>\n",
       "\t<tr><td>18                       </td><td>8                        </td><td>307                      </td><td>130                      </td><td>3504                     </td><td>12.0                     </td><td>70                       </td><td>1                        </td><td>chevrolet chevelle malibu</td></tr>\n",
       "\t<tr><td>15                       </td><td>8                        </td><td>350                      </td><td>165                      </td><td>3693                     </td><td>11.5                     </td><td>70                       </td><td>1                        </td><td>buick skylark 320        </td></tr>\n",
       "\t<tr><td>18                       </td><td>8                        </td><td>318                      </td><td>150                      </td><td>3436                     </td><td>11.0                     </td><td>70                       </td><td>1                        </td><td>plymouth satellite       </td></tr>\n",
       "\t<tr><td>16                       </td><td>8                        </td><td>304                      </td><td>150                      </td><td>3433                     </td><td>12.0                     </td><td>70                       </td><td>1                        </td><td>amc rebel sst            </td></tr>\n",
       "\t<tr><td>17                       </td><td>8                        </td><td>302                      </td><td>140                      </td><td>3449                     </td><td>10.5                     </td><td>70                       </td><td>1                        </td><td>ford torino              </td></tr>\n",
       "\t<tr><td>15                       </td><td>8                        </td><td>429                      </td><td>198                      </td><td>4341                     </td><td>10.0                     </td><td>70                       </td><td>1                        </td><td>ford galaxie 500         </td></tr>\n",
       "</tbody>\n",
       "</table>\n"
      ],
      "text/latex": [
       "\\begin{tabular}{r|lllllllll}\n",
       " mpg & cylinders & displacement & horsepower & weight & acceleration & year & origin & name\\\\\n",
       "\\hline\n",
       "\t 18                        & 8                         & 307                       & 130                       & 3504                      & 12.0                      & 70                        & 1                         & chevrolet chevelle malibu\\\\\n",
       "\t 15                        & 8                         & 350                       & 165                       & 3693                      & 11.5                      & 70                        & 1                         & buick skylark 320        \\\\\n",
       "\t 18                        & 8                         & 318                       & 150                       & 3436                      & 11.0                      & 70                        & 1                         & plymouth satellite       \\\\\n",
       "\t 16                        & 8                         & 304                       & 150                       & 3433                      & 12.0                      & 70                        & 1                         & amc rebel sst            \\\\\n",
       "\t 17                        & 8                         & 302                       & 140                       & 3449                      & 10.5                      & 70                        & 1                         & ford torino              \\\\\n",
       "\t 15                        & 8                         & 429                       & 198                       & 4341                      & 10.0                      & 70                        & 1                         & ford galaxie 500         \\\\\n",
       "\\end{tabular}\n"
      ],
      "text/markdown": [
       "\n",
       "| mpg | cylinders | displacement | horsepower | weight | acceleration | year | origin | name |\n",
       "|---|---|---|---|---|---|---|---|---|\n",
       "| 18                        | 8                         | 307                       | 130                       | 3504                      | 12.0                      | 70                        | 1                         | chevrolet chevelle malibu |\n",
       "| 15                        | 8                         | 350                       | 165                       | 3693                      | 11.5                      | 70                        | 1                         | buick skylark 320         |\n",
       "| 18                        | 8                         | 318                       | 150                       | 3436                      | 11.0                      | 70                        | 1                         | plymouth satellite        |\n",
       "| 16                        | 8                         | 304                       | 150                       | 3433                      | 12.0                      | 70                        | 1                         | amc rebel sst             |\n",
       "| 17                        | 8                         | 302                       | 140                       | 3449                      | 10.5                      | 70                        | 1                         | ford torino               |\n",
       "| 15                        | 8                         | 429                       | 198                       | 4341                      | 10.0                      | 70                        | 1                         | ford galaxie 500          |\n",
       "\n"
      ],
      "text/plain": [
       "  mpg cylinders displacement horsepower weight acceleration year origin\n",
       "1 18  8         307          130        3504   12.0         70   1     \n",
       "2 15  8         350          165        3693   11.5         70   1     \n",
       "3 18  8         318          150        3436   11.0         70   1     \n",
       "4 16  8         304          150        3433   12.0         70   1     \n",
       "5 17  8         302          140        3449   10.5         70   1     \n",
       "6 15  8         429          198        4341   10.0         70   1     \n",
       "  name                     \n",
       "1 chevrolet chevelle malibu\n",
       "2 buick skylark 320        \n",
       "3 plymouth satellite       \n",
       "4 amc rebel sst            \n",
       "5 ford torino              \n",
       "6 ford galaxie 500         "
      ]
     },
     "metadata": {},
     "output_type": "display_data"
    }
   ],
   "source": [
    "head(df)"
   ]
  },
  {
   "cell_type": "code",
   "execution_count": 18,
   "metadata": {
    "scrolled": true
   },
   "outputs": [
    {
     "data": {
      "text/html": [
       "<table>\n",
       "<thead><tr><th scope=col>year</th><th scope=col>name</th><th scope=col>n</th></tr></thead>\n",
       "<tbody>\n",
       "\t<tr><td>75              </td><td>ford pinto      </td><td>2               </td></tr>\n",
       "\t<tr><td>81              </td><td>plymouth reliant</td><td>2               </td></tr>\n",
       "</tbody>\n",
       "</table>\n"
      ],
      "text/latex": [
       "\\begin{tabular}{r|lll}\n",
       " year & name & n\\\\\n",
       "\\hline\n",
       "\t 75               & ford pinto       & 2               \\\\\n",
       "\t 81               & plymouth reliant & 2               \\\\\n",
       "\\end{tabular}\n"
      ],
      "text/markdown": [
       "\n",
       "| year | name | n |\n",
       "|---|---|---|\n",
       "| 75               | ford pinto       | 2                |\n",
       "| 81               | plymouth reliant | 2                |\n",
       "\n"
      ],
      "text/plain": [
       "  year name             n\n",
       "1 75   ford pinto       2\n",
       "2 81   plymouth reliant 2"
      ]
     },
     "metadata": {},
     "output_type": "display_data"
    }
   ],
   "source": [
    "df  %>% \n",
    "    group_by(year) %>% \n",
    "    count(name) %>% \n",
    "    filter(n>1)"
   ]
  },
  {
   "cell_type": "code",
   "execution_count": 21,
   "metadata": {},
   "outputs": [
    {
     "data": {
      "text/html": [
       "<table>\n",
       "<thead><tr><th></th><th scope=col>mpg</th><th scope=col>cylinders</th><th scope=col>displacement</th><th scope=col>horsepower</th><th scope=col>weight</th><th scope=col>acceleration</th><th scope=col>year</th><th scope=col>origin</th><th scope=col>name</th></tr></thead>\n",
       "<tbody>\n",
       "\t<tr><th scope=row>112</th><td>19.0      </td><td>4         </td><td>122       </td><td>85        </td><td>2310      </td><td>18.5      </td><td>73        </td><td>1         </td><td>ford pinto</td></tr>\n",
       "\t<tr><th scope=row>129</th><td>26.0      </td><td>4         </td><td>122       </td><td>80        </td><td>2451      </td><td>16.5      </td><td>74        </td><td>1         </td><td>ford pinto</td></tr>\n",
       "\t<tr><th scope=row>167</th><td>23.0      </td><td>4         </td><td>140       </td><td>83        </td><td>2639      </td><td>17.0      </td><td>75        </td><td>1         </td><td>ford pinto</td></tr>\n",
       "\t<tr><th scope=row>173</th><td>18.0      </td><td>6         </td><td>171       </td><td>97        </td><td>2984      </td><td>14.5      </td><td>75        </td><td>1         </td><td>ford pinto</td></tr>\n",
       "\t<tr><th scope=row>205</th><td>26.5      </td><td>4         </td><td>140       </td><td>72        </td><td>2565      </td><td>13.6      </td><td>76        </td><td>1         </td><td>ford pinto</td></tr>\n",
       "</tbody>\n",
       "</table>\n"
      ],
      "text/latex": [
       "\\begin{tabular}{r|lllllllll}\n",
       "  & mpg & cylinders & displacement & horsepower & weight & acceleration & year & origin & name\\\\\n",
       "\\hline\n",
       "\t112 & 19.0       & 4          & 122        & 85         & 2310       & 18.5       & 73         & 1          & ford pinto\\\\\n",
       "\t129 & 26.0       & 4          & 122        & 80         & 2451       & 16.5       & 74         & 1          & ford pinto\\\\\n",
       "\t167 & 23.0       & 4          & 140        & 83         & 2639       & 17.0       & 75         & 1          & ford pinto\\\\\n",
       "\t173 & 18.0       & 6          & 171        & 97         & 2984       & 14.5       & 75         & 1          & ford pinto\\\\\n",
       "\t205 & 26.5       & 4          & 140        & 72         & 2565       & 13.6       & 76         & 1          & ford pinto\\\\\n",
       "\\end{tabular}\n"
      ],
      "text/markdown": [
       "\n",
       "| <!--/--> | mpg | cylinders | displacement | horsepower | weight | acceleration | year | origin | name |\n",
       "|---|---|---|---|---|---|---|---|---|---|\n",
       "| 112 | 19.0       | 4          | 122        | 85         | 2310       | 18.5       | 73         | 1          | ford pinto |\n",
       "| 129 | 26.0       | 4          | 122        | 80         | 2451       | 16.5       | 74         | 1          | ford pinto |\n",
       "| 167 | 23.0       | 4          | 140        | 83         | 2639       | 17.0       | 75         | 1          | ford pinto |\n",
       "| 173 | 18.0       | 6          | 171        | 97         | 2984       | 14.5       | 75         | 1          | ford pinto |\n",
       "| 205 | 26.5       | 4          | 140        | 72         | 2565       | 13.6       | 76         | 1          | ford pinto |\n",
       "\n"
      ],
      "text/plain": [
       "    mpg  cylinders displacement horsepower weight acceleration year origin\n",
       "112 19.0 4         122          85         2310   18.5         73   1     \n",
       "129 26.0 4         122          80         2451   16.5         74   1     \n",
       "167 23.0 4         140          83         2639   17.0         75   1     \n",
       "173 18.0 6         171          97         2984   14.5         75   1     \n",
       "205 26.5 4         140          72         2565   13.6         76   1     \n",
       "    name      \n",
       "112 ford pinto\n",
       "129 ford pinto\n",
       "167 ford pinto\n",
       "173 ford pinto\n",
       "205 ford pinto"
      ]
     },
     "metadata": {},
     "output_type": "display_data"
    }
   ],
   "source": [
    "subset(df, name == c('ford pinto'))"
   ]
  }
 ],
 "metadata": {
  "kernelspec": {
   "display_name": "R",
   "language": "R",
   "name": "ir"
  },
  "language_info": {
   "codemirror_mode": "r",
   "file_extension": ".r",
   "mimetype": "text/x-r-source",
   "name": "R",
   "pygments_lexer": "r",
   "version": "3.6.1"
  }
 },
 "nbformat": 4,
 "nbformat_minor": 4
}
